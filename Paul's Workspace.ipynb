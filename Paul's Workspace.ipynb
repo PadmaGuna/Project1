{
 "cells": [
  {
   "cell_type": "code",
   "execution_count": null,
   "metadata": {},
   "outputs": [],
   "source": [
    "# Ideas for linear regression. \n",
    "# Time vs. Collision Rates\n",
    "# Multiple regressions on one plot based on mode or county.\n",
    "# Mileage vs. Collision Rates\n",
    "# Mutliple regressions on one based on injury outcome.\n",
    "# Time vs. Injury Total Per Collision\n",
    "\n",
    "#Import dependencies\n",
    "from pathlib import Path\n",
    "import pandas as pd\n",
    "import scipy.stats as stats\n",
    "import matplotlib.pyplot as plt\n",
    "\n",
    "\n",
    " \n",
    "#Open filtered CSV file\n",
    "traffic_injuries = Path(\"Resources/road-traffic-injuries-2002-2010.csv\")\n",
    "\n",
    "df = pd.read_csv(traffic_injuries)\n",
    "\n",
    "# Read in the data. \n",
    "df\n",
    "\n"
   ]
  },
  {
   "cell_type": "code",
   "execution_count": null,
   "metadata": {},
   "outputs": [],
   "source": [
    "#clean data to remove null values and columns \n",
    "clean_df = df.drop(columns = [\"ind_definition\",\"version\"])\n",
    "clean_df = clean_df.drop(clean_df[clean_df['ind_id'] == \"END OF TABLE\"].index)\n",
    "clean_df = clean_df.drop(columns = [\"ind_id\", 'LL95CI_avmtrate', 'UL95CI_avmtrate',\n",
    "       'avmtrate_se', 'avmtrate_rse', 'CA_decile_avmt', 'CA_RR_avmtrate',\n",
    "       'groupquarters','LL95CI_poprate', 'UL95CI_poprate',\n",
    "       'poprate_se', 'poprate_rse', 'CA_decile_pop', 'CA_RR_poprate',\n",
    "       'avmttotal', 'avmtrate'])\n",
    "clean_df = clean_df[clean_df['severity'] != 'ND']\n",
    "clean_df = clean_df[clean_df['mode'] != 'All modes']\n",
    "clean_df = clean_df[~clean_df['reportyear'].isin(['2002-2004','2005-2007','2008-2010','2006-2010'])]\n",
    "\n",
    "clean_df"
   ]
  },
  {
   "cell_type": "code",
   "execution_count": null,
   "metadata": {},
   "outputs": [],
   "source": [
    "# Create a Bar chart- Accidents by Region and severity\n",
    "yearwise_severity = clean_df.groupby(['region_name', 'severity']).size().reset_index(name='Accident Count')\n",
    "pivot_data = yearwise_severity.pivot_table(index='region_name', columns='severity', values='Accident Count').sort_index(axis=1)\n",
    "pivot_data.plot.bar(figsize=(12, 6))\n",
    "plt.xlabel('Region')\n",
    "plt.ylabel('Accident Count')\n",
    "plt.ylim(0, 15000)\n",
    "plt.title('Accidents by region_name and Severity')\n",
    "plt.xticks(rotation=45)\n",
    "plt.show()"
   ]
  }
 ],
 "metadata": {
  "language_info": {
   "name": "python"
  }
 },
 "nbformat": 4,
 "nbformat_minor": 2
}
