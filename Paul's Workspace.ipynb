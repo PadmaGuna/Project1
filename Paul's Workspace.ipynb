{
 "cells": [
  {
   "cell_type": "code",
   "execution_count": null,
   "metadata": {},
   "outputs": [],
   "source": [
    "# Ideas for linear regression. \n",
    "# Time vs. Collision Rates\n",
    "# Multiple regressions on one plot based on mode or county.\n",
    "# Mileage vs. Collision Rates\n",
    "# Mutliple regressions on one based on injury outcome.\n",
    "# Time vs. Injury Total Per Collision"
   ]
  }
 ],
 "metadata": {
  "language_info": {
   "name": "python"
  }
 },
 "nbformat": 4,
 "nbformat_minor": 2
}
