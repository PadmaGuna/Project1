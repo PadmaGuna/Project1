{
 "cells": [
  {
   "cell_type": "code",
   "execution_count": 2,
   "metadata": {},
   "outputs": [
    {
     "name": "stdout",
     "output_type": "stream",
     "text": [
      "Testing 1,2,3,4\n"
     ]
    }
   ],
   "source": [
    "print(\"Testing 1,2,3,4\")"
   ]
  },
  {
   "cell_type": "code",
   "execution_count": null,
   "metadata": {},
   "outputs": [],
   "source": []
  },
  {
   "cell_type": "code",
   "execution_count": null,
   "metadata": {},
   "outputs": [],
   "source": [
    "#Make graph comparing every mode of travel by every type of injury\n",
    "#make graph breaking down how many were killed or severly injured by type of travel, maybe calculate it percent to make pie graph or do a bar chart\n",
    "#compare total accidents per region\n",
    "#graphs comparing accidnets and miles traveled? Or region and miles traveled? Might help with linear regression later. See comment in box with correlation matrix to see how to use miles traveled\n",
    "#Do these for every year\n",
    "#Do these summing up all the years, maybe make dataframes specific to a year\n",
    "#any other ideas?"
   ]
  },
  {
   "cell_type": "code",
   "execution_count": null,
   "metadata": {},
   "outputs": [],
   "source": [
    "#need to do linear regression model of graphs. What does the data tell us? is there trend in injury over year? by region? By mode of transport?\n",
    "#What about by miles traveled?(this will be found all the way back in beginnning under \"df[\"avmtrate\"] look at the excel dictionary I think we can still use this. If used be sure to remove rows are same as clean_df or new_df) \n",
    "\n",
    "\n",
    "# Assuming df is your DataFrame\n",
    "correlation_matrix = clean_df[[\"geotypevalue\",\"county_fips\", \"region_code\", \"injuries\", \"totalpop\", \"poprate\"]].describe()\n",
    "\n",
    "#I dont think this is the correlation we are looking for in regard to final project presentation. I think we should make a dataframe that\n",
    "#is summed up and more about accident per region, modes of transport, and miles traveled.\n",
    "\n",
    "# Display the correlation matrix\n",
    "print(correlation_matrix)\n",
    "#clean_df.info()"
   ]
  },
  {
   "cell_type": "code",
   "execution_count": null,
   "metadata": {},
   "outputs": [],
   "source": [
    "#how lethal are certain modes of transport by miles driven\n",
    "#adjust for the population a motorcycle more dangerous\n",
    "#demonstrate our thought process and sequential analysis\n",
    "#ideally linear regression should be a part of our analysis\n",
    "#run a correlation matrix to look for variables that have a strong negative or positive correlation"
   ]
  }
 ],
 "metadata": {
  "kernelspec": {
   "display_name": "dev",
   "language": "python",
   "name": "dev"
  },
  "language_info": {
   "codemirror_mode": {
    "name": "ipython",
    "version": 3
   },
   "file_extension": ".py",
   "mimetype": "text/x-python",
   "name": "python",
   "nbconvert_exporter": "python",
   "pygments_lexer": "ipython3",
   "version": "3.12.4"
  }
 },
 "nbformat": 4,
 "nbformat_minor": 2
}
