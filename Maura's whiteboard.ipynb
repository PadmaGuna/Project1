{
 "cells": [
  {
   "cell_type": "code",
   "execution_count": 2,
   "metadata": {},
   "outputs": [
    {
     "name": "stdout",
     "output_type": "stream",
     "text": [
      "Testing 1,2,3,4\n"
     ]
    }
   ],
   "source": [
    "print(\"Testing 1,2,3,4\")"
   ]
  },
  {
   "cell_type": "code",
   "execution_count": null,
   "metadata": {},
   "outputs": [],
   "source": [
    "years = new_df[\"reportyear\"].unique()\n",
    "\n",
    "df_2002 = new_df[\"reportyear\"] == \"2002\"\n",
    "df_2003 = new_df[\"reportyear\"] == \"2003\"\n",
    "df_2004 = new_df[\"reportyear\"] == \"2004\"\n",
    "df_2005 = new_df[\"reportyear\"] == \"2005\"\n",
    "df_2006 = new_df[\"reportyear\"] == \"2006\"\n",
    "df_2007 = new_df[\"reportyear\"] == \"2007\"\n",
    "df_2008 = new_df[\"reportyear\"] == \"2008\"\n",
    "df_2009 = new_df[\"reportyear\"] == \"2009\"\n",
    "df_2010 = new_df[\"reportyear\"] == \"2010\"\n",
    "\n",
    "\n"
   ]
  }
 ],
 "metadata": {
  "kernelspec": {
   "display_name": "dev",
   "language": "python",
   "name": "dev"
  },
  "language_info": {
   "codemirror_mode": {
    "name": "ipython",
    "version": 3
   },
   "file_extension": ".py",
   "mimetype": "text/x-python",
   "name": "python",
   "nbconvert_exporter": "python",
   "pygments_lexer": "ipython3",
   "version": "3.12.4"
  }
 },
 "nbformat": 4,
 "nbformat_minor": 2
}
